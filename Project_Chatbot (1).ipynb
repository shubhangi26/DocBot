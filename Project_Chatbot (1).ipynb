{
  "nbformat": 4,
  "nbformat_minor": 0,
  "metadata": {
    "colab": {
      "name": "Project_Chatbot.ipynb",
      "provenance": []
    },
    "kernelspec": {
      "name": "python3",
      "display_name": "Python 3"
    },
    "language_info": {
      "name": "python"
    }
  },
  "cells": [
    {
      "cell_type": "markdown",
      "metadata": {
        "id": "PXjxcKGuUmiY"
      },
      "source": [
        "##**Chatterbot Python Program**\n"
      ]
    },
    {
      "cell_type": "code",
      "metadata": {
        "colab": {
          "base_uri": "https://localhost:8080/"
        },
        "id": "hlWYQh20-_qx",
        "outputId": "59ef0ff6-efbb-4889-b8ba-446dcce1208e"
      },
      "source": [
        "# Installing the required packages\n",
        "\n",
        "!pip install nltk\n",
        "!pip install newspaper3k"
      ],
      "execution_count": null,
      "outputs": [
        {
          "output_type": "stream",
          "text": [
            "Requirement already satisfied: nltk in /usr/local/lib/python3.7/dist-packages (3.2.5)\n",
            "Requirement already satisfied: six in /usr/local/lib/python3.7/dist-packages (from nltk) (1.15.0)\n",
            "Requirement already satisfied: newspaper3k in /usr/local/lib/python3.7/dist-packages (0.2.8)\n",
            "Requirement already satisfied: Pillow>=3.3.0 in /usr/local/lib/python3.7/dist-packages (from newspaper3k) (7.1.2)\n",
            "Requirement already satisfied: requests>=2.10.0 in /usr/local/lib/python3.7/dist-packages (from newspaper3k) (2.23.0)\n",
            "Requirement already satisfied: python-dateutil>=2.5.3 in /usr/local/lib/python3.7/dist-packages (from newspaper3k) (2.8.1)\n",
            "Requirement already satisfied: lxml>=3.6.0 in /usr/local/lib/python3.7/dist-packages (from newspaper3k) (4.2.6)\n",
            "Requirement already satisfied: nltk>=3.2.1 in /usr/local/lib/python3.7/dist-packages (from newspaper3k) (3.2.5)\n",
            "Requirement already satisfied: tldextract>=2.0.1 in /usr/local/lib/python3.7/dist-packages (from newspaper3k) (3.1.0)\n",
            "Requirement already satisfied: tinysegmenter==0.3 in /usr/local/lib/python3.7/dist-packages (from newspaper3k) (0.3)\n",
            "Requirement already satisfied: feedfinder2>=0.0.4 in /usr/local/lib/python3.7/dist-packages (from newspaper3k) (0.0.4)\n",
            "Requirement already satisfied: feedparser>=5.2.1 in /usr/local/lib/python3.7/dist-packages (from newspaper3k) (6.0.2)\n",
            "Requirement already satisfied: beautifulsoup4>=4.4.1 in /usr/local/lib/python3.7/dist-packages (from newspaper3k) (4.6.3)\n",
            "Requirement already satisfied: cssselect>=0.9.2 in /usr/local/lib/python3.7/dist-packages (from newspaper3k) (1.1.0)\n",
            "Requirement already satisfied: jieba3k>=0.35.1 in /usr/local/lib/python3.7/dist-packages (from newspaper3k) (0.35.1)\n",
            "Requirement already satisfied: PyYAML>=3.11 in /usr/local/lib/python3.7/dist-packages (from newspaper3k) (3.13)\n",
            "Requirement already satisfied: chardet<4,>=3.0.2 in /usr/local/lib/python3.7/dist-packages (from requests>=2.10.0->newspaper3k) (3.0.4)\n",
            "Requirement already satisfied: urllib3!=1.25.0,!=1.25.1,<1.26,>=1.21.1 in /usr/local/lib/python3.7/dist-packages (from requests>=2.10.0->newspaper3k) (1.24.3)\n",
            "Requirement already satisfied: certifi>=2017.4.17 in /usr/local/lib/python3.7/dist-packages (from requests>=2.10.0->newspaper3k) (2020.12.5)\n",
            "Requirement already satisfied: idna<3,>=2.5 in /usr/local/lib/python3.7/dist-packages (from requests>=2.10.0->newspaper3k) (2.10)\n",
            "Requirement already satisfied: six>=1.5 in /usr/local/lib/python3.7/dist-packages (from python-dateutil>=2.5.3->newspaper3k) (1.15.0)\n",
            "Requirement already satisfied: requests-file>=1.4 in /usr/local/lib/python3.7/dist-packages (from tldextract>=2.0.1->newspaper3k) (1.5.1)\n",
            "Requirement already satisfied: filelock>=3.0.8 in /usr/local/lib/python3.7/dist-packages (from tldextract>=2.0.1->newspaper3k) (3.0.12)\n",
            "Requirement already satisfied: sgmllib3k in /usr/local/lib/python3.7/dist-packages (from feedparser>=5.2.1->newspaper3k) (1.0.0)\n"
          ],
          "name": "stdout"
        }
      ]
    },
    {
      "cell_type": "code",
      "metadata": {
        "id": "iTwlW8zl_3QJ"
      },
      "source": [
        "# Importing the required libraries\n",
        "\n",
        "from newspaper import Article\n",
        "import random\n",
        "import string\n",
        "import nltk\n",
        "from sklearn.feature_extraction.text import CountVectorizer\n",
        "from sklearn.metrics.pairwise import cosine_similarity\n",
        "import numpy as np\n",
        "import warnings\n",
        "warnings.filterwarnings('ignore')"
      ],
      "execution_count": null,
      "outputs": []
    },
    {
      "cell_type": "code",
      "metadata": {
        "colab": {
          "base_uri": "https://localhost:8080/"
        },
        "id": "2m5jgbuZBaL-",
        "outputId": "b84ed25f-acd7-49e9-f622-1e2cb94de7f4"
      },
      "source": [
        "# Downloading the punkt package\n",
        "\n",
        "nltk.download('punkt',quiet=True)"
      ],
      "execution_count": null,
      "outputs": [
        {
          "output_type": "execute_result",
          "data": {
            "text/plain": [
              "True"
            ]
          },
          "metadata": {
            "tags": []
          },
          "execution_count": 18
        }
      ]
    },
    {
      "cell_type": "code",
      "metadata": {
        "id": "BTZvDjDxCEW0"
      },
      "source": [
        "#Getting the article\n",
        "article=Article('https://www.cdc.gov/vaccines/vpd/varicella/public/index.html')\n",
        "article.download()\n",
        "article.parse()\n",
        "article.nlp()\n",
        "corpus=article.text"
      ],
      "execution_count": null,
      "outputs": []
    },
    {
      "cell_type": "code",
      "metadata": {
        "colab": {
          "base_uri": "https://localhost:8080/"
        },
        "id": "9wvn5n1oEntk",
        "outputId": "e006f0f4-d73f-48ba-c9b8-d912e40d264d"
      },
      "source": [
        "# Print the Article's text \n",
        "\n",
        "print(corpus)"
      ],
      "execution_count": null,
      "outputs": [
        {
          "output_type": "stream",
          "text": [
            "Chickenpox Vaccination: What Everyone Should Know\n",
            "\n",
            "At a Glance\n",
            "\n",
            "Chickenpox is a highly contagious disease caused by the varicella-zoster virus (VZV). It causes an itchy, blister-like rash. The rash appears first on the chest, back, and face, and then spreads over the entire body.\n",
            "\n",
            "Chickenpox used to be very common in the United States. In the early 1990s, an average of 4 million people got chickenpox, 10,500 to 13,000 were hospitalized, and 100 to 150 died each year. Chickenpox vaccine became available in the United States in 1995. Each year, more than 3.5 million cases of chickenpox, 9,000 hospitalizations, and 100 deaths are prevented by chickenpox vaccination in the United States.\n",
            "\n",
            "CDC recommends two doses of chickenpox vaccine for children, adolescents, and adults who have never had chickenpox and were never vaccinated. Children are routinely recommended to receive the first dose at age 12 through 15 months and the second dose at age 4 through 6 years.\n",
            "\n",
            "Who Needs Chickenpox Vaccine\n",
            "\n",
            "Children under age 13 years should get two doses\n",
            "\n",
            "First dose at age 12 through 15 months\n",
            "\n",
            "Second dose at age 4 through 6 years\n",
            "\n",
            "The second dose may be given at an earlier age if it is given at least 3 months after the first dose.\n",
            "\n",
            "People 13 years of age and older who have never had chickenpox or received chickenpox vaccine should get two doses, at least 28 days apart. Chickenpox vaccination is especially important for:\n",
            "\n",
            "Healthcare professionals\n",
            "\n",
            "People who care for or are around others with a weakened immune system\n",
            "\n",
            "Teachers\n",
            "\n",
            "Childcare workers\n",
            "\n",
            "Residents and staff in nursing homes and residential settings\n",
            "\n",
            "College students\n",
            "\n",
            "Inmates and staff of correctional institutions\n",
            "\n",
            "Military personnel\n",
            "\n",
            "Non-pregnant women of child-bearing age\n",
            "\n",
            "Adolescents and adults living with children\n",
            "\n",
            "International travelers\n",
            "\n",
            "To check if you are protected from chickenpox, see Assessing Immunity to Varicella.\n",
            "\n",
            "Some people with a weakened immune system who do not have immunity against chickenpox may be considered for vaccination after talking with their doctor, including people:\n",
            "\n",
            "with HIV-infection\n",
            "\n",
            "with cancer, but whose disease is in remission\n",
            "\n",
            "on low dose steroids\n",
            "\n",
            "For more information on vaccination of people with weakened immune systems, see Varicella Vaccination Recommendations for Specific Groups.\n",
            "\n",
            "Also, see Getting Vaccinated After You Are Exposed to Chickenpox.\n",
            "\n",
            "Who Should Not Get Chickenpox Vaccine\n",
            "\n",
            "You do not need to get the chickenpox vaccine if you have evidence of immunity against the disease.\n",
            "\n",
            "Some people should not get chickenpox vaccine or they should wait.\n",
            "\n",
            "People should not get chickenpox vaccine if they have ever had a life-threatening allergic reaction to a previous dose of chickenpox vaccine or any ingredient of the vaccine, including gelatin or the antibiotic neomycin.\n",
            "\n",
            "People who are moderately or severely ill at the time the shot is scheduled should usually wait until they recover before getting chickenpox vaccine.\n",
            "\n",
            "Pregnant women should not get chickenpox vaccine. They should wait to get chickenpox vaccine until after they have given birth. Women should not get pregnant for 1 month after getting chickenpox vaccine.\n",
            "\n",
            "People should check with their doctor about whether they should get chickenpox vaccine if they: Have HIV/AIDS or another disease that affects the immune system Are being treated with drugs that affect the immune system, such as steroids, for 2 weeks or longer Have any kind of cancer Are getting cancer treatment with radiation or drugs Recently had a transfusion or were given other blood products\n",
            "\n",
            "\n",
            "\n",
            "Immune Conditions in Family Members\n",
            "\n",
            "People should check with their doctor about whether they should get chickenpox vaccine if they have immune conditions in first degree relatives (parents, siblings) that can be inherited (called immunodeficiencies).\n",
            "\n",
            "Most children who have family members with immune system problems can safely get varicella vaccine, as long as they themselves have a healthy immune system.\n",
            "\n",
            "Generally speaking, anyone with a damaged immune system should not get live vaccines, such as chickenpox vaccine. But most immune system problems are not related to the patient’s family. They come from illnesses such as cancer, or from medications such as chemotherapy drugs.\n",
            "\n",
            "But there are some rare immune conditions that can run in the family. So children whose parents or brothers or sisters have one of these conditions should be screened before getting chickenpox vaccine to make sure they haven’t inherited it. Children with a family history of these conditions can get the chickenpox vaccine if they are found not to have the conditions themselves.\n",
            "\n",
            "Top of Page\n",
            "\n",
            "Types of Chickenpox Vaccine\n",
            "\n",
            "There are two chickenpox vaccines that are licensed in the United States—Varivax® and ProQuad®.\n",
            "\n",
            "Varivax®\n",
            "\n",
            "Contains only chickenpox vaccine\n",
            "\n",
            "Is licensed for use in children age 12 months and older, adolescents, and adults\n",
            "\n",
            "Can be given to children for their routine two doses of chickenpox vaccine at age 12 through 15 months and age 4 through 6 years\n",
            "\n",
            "ProQuad®\n",
            "\n",
            "Contains a combination of measles, mumps, rubella, and varicella (chickenpox) vaccines, which is also called MMRV\n",
            "\n",
            "Is only licensed for use in children age 12 months through 12 years\n",
            "\n",
            "ProQuad® can be given to children for their routine two doses of chickenpox vaccine at age 12 through 15 months and age 4 through 6 years. Children who get the first dose of MMRV at age 12 to 23 months may have a higher chance of a seizure caused by fever. This is in comparison to children who get the measles, mumps, and rubella vaccine and the chickenpox vaccine separately during a doctor visit. These seizures are not common. They may be scary for parents, but they are not harmful to children. Talk with a doctor if you have questions.\n",
            "\n",
            "For more information, see\n",
            "\n",
            "For package inserts, see Varivaxexternal icon® and ProQuadexternal icon®.\n",
            "\n",
            "Getting Vaccinated After You Are Exposed to Chickenpox\n",
            "\n",
            "If you do not have immunity against chickenpox and are exposed to someone with this disease or shingles, talk with your doctor about getting chickenpox vaccine.\n",
            "\n",
            "You should get chickenpox vaccine within 3 to 5 days of being exposed. Even if more than 5 days have passed since you were exposed, vaccination with two doses is still recommended to protect against future exposures. You need 2 doses of vaccine separated by minimum of 28 days.\n",
            "\n",
            "For more information, see Who Needs Chickenpox Vaccine.\n",
            "\n",
            "If you previously got 1 dose of chickenpox vaccine, you should get a second dose.\n",
            "\n",
            "Getting vaccinated after you are exposed to someone with chickenpox can:\n",
            "\n",
            "prevent the disease or make it less serious\n",
            "\n",
            "protect you from chickenpox if you are exposed again in the future\n",
            "\n",
            "A doctor can prescribe a medicine to make chickenpox less severe if you:\n",
            "\n",
            "are exposed to chickenpox,\n",
            "\n",
            "do not have immunity against the disease, and\n",
            "\n",
            "are not eligible for vaccination.\n",
            "\n",
            "For more information, see Managing Persons at Risk for Severe Chickenpox (Varicella).\n",
            "\n",
            "Also, see information about Who Should Not Get Chickenpox Vaccine.\n",
            "\n",
            "Top of Page\n",
            "\n",
            "Childcare and School Chickenpox Vaccine Requirements\n",
            "\n",
            "All 50 states and the District of Columbia (DC) have state laws that require children entering childcare or public schools to have certain vaccinations. There is no federal law that requires this.\n",
            "\n",
            "The Advisory Committee on Immunization Practices recommends that all states require children entering childcare and students starting school, college, and other postsecondary educational institutions have:\n",
            "\n",
            "age-appropriate chickenpox vaccination preschool-age children (age 12 months through 3 years): 1 dose school-age children, adolescents, adults: 2 doses or\n",
            "\n",
            "other evidence of immunity against chickenpox.\n",
            "\n",
            "Students in school settings have a higher chance of spreading chickenpox because they are constantly in close contact with each other.\n",
            "\n",
            "Chickenpox vaccine prevents the disease and outbreaks in childcare settings and schools. This leads to:\n",
            "\n",
            "less illness and less school time missed by students, and\n",
            "\n",
            "less chance of exposing people who cannot get vaccinated.\n",
            "\n",
            "For the 2018-2019 school year, 43 states and District of Columbia require children to receive 2 doses of chickenpox vaccine or have other evidence of immunity against chickenpox before starting school. There are 8 states with a school-entry requirement of 1 dose of chickenpox vaccine or other evidence of immunity against chickenpox.\n",
            "\n",
            "For more information, see State Vaccination Requirements.\n",
            "\n",
            "How Can Parents Pay for Chickenpox Vaccine?\n",
            "\n",
            "Most health insurance plans cover the cost of vaccines. However, you may want to check with your insurance provider before going to the doctor. If you don’t have health insurance or if your insurance does not cover vaccines for your child, the Vaccines for Children (VFC) Program may be able to help. This program helps families of eligible children who might not otherwise have access to vaccines. To find out if your child is eligible, visit the VFC website or ask your child’s doctor. You can also contact your state VFC coordinator.\n",
            "\n",
            "Educational Materials\n",
            "\n",
            "Top of Page\n"
          ],
          "name": "stdout"
        }
      ]
    },
    {
      "cell_type": "code",
      "metadata": {
        "colab": {
          "base_uri": "https://localhost:8080/"
        },
        "id": "Icx_fcR5K1JV",
        "outputId": "0d436dcb-9bb9-4603-9157-8192e725b19f"
      },
      "source": [
        "# Tokenization\n",
        "\n",
        "text=corpus\n",
        "sentence_list=nltk.sent_tokenize(text)\n",
        "print(sentence_list)  # A list of sentences"
      ],
      "execution_count": null,
      "outputs": [
        {
          "output_type": "stream",
          "text": [
            "['Chickenpox Vaccination: What Everyone Should Know\\n\\nAt a Glance\\n\\nChickenpox is a highly contagious disease caused by the varicella-zoster virus (VZV).', 'It causes an itchy, blister-like rash.', 'The rash appears first on the chest, back, and face, and then spreads over the entire body.', 'Chickenpox used to be very common in the United States.', 'In the early 1990s, an average of 4 million people got chickenpox, 10,500 to 13,000 were hospitalized, and 100 to 150 died each year.', 'Chickenpox vaccine became available in the United States in 1995.', 'Each year, more than 3.5 million cases of chickenpox, 9,000 hospitalizations, and 100 deaths are prevented by chickenpox vaccination in the United States.', 'CDC recommends two doses of chickenpox vaccine for children, adolescents, and adults who have never had chickenpox and were never vaccinated.', 'Children are routinely recommended to receive the first dose at age 12 through 15 months and the second dose at age 4 through 6 years.', 'Who Needs Chickenpox Vaccine\\n\\nChildren under age 13 years should get two doses\\n\\nFirst dose at age 12 through 15 months\\n\\nSecond dose at age 4 through 6 years\\n\\nThe second dose may be given at an earlier age if it is given at least 3 months after the first dose.', 'People 13 years of age and older who have never had chickenpox or received chickenpox vaccine should get two doses, at least 28 days apart.', 'Chickenpox vaccination is especially important for:\\n\\nHealthcare professionals\\n\\nPeople who care for or are around others with a weakened immune system\\n\\nTeachers\\n\\nChildcare workers\\n\\nResidents and staff in nursing homes and residential settings\\n\\nCollege students\\n\\nInmates and staff of correctional institutions\\n\\nMilitary personnel\\n\\nNon-pregnant women of child-bearing age\\n\\nAdolescents and adults living with children\\n\\nInternational travelers\\n\\nTo check if you are protected from chickenpox, see Assessing Immunity to Varicella.', 'Some people with a weakened immune system who do not have immunity against chickenpox may be considered for vaccination after talking with their doctor, including people:\\n\\nwith HIV-infection\\n\\nwith cancer, but whose disease is in remission\\n\\non low dose steroids\\n\\nFor more information on vaccination of people with weakened immune systems, see Varicella Vaccination Recommendations for Specific Groups.', 'Also, see Getting Vaccinated After You Are Exposed to Chickenpox.', 'Who Should Not Get Chickenpox Vaccine\\n\\nYou do not need to get the chickenpox vaccine if you have evidence of immunity against the disease.', 'Some people should not get chickenpox vaccine or they should wait.', 'People should not get chickenpox vaccine if they have ever had a life-threatening allergic reaction to a previous dose of chickenpox vaccine or any ingredient of the vaccine, including gelatin or the antibiotic neomycin.', 'People who are moderately or severely ill at the time the shot is scheduled should usually wait until they recover before getting chickenpox vaccine.', 'Pregnant women should not get chickenpox vaccine.', 'They should wait to get chickenpox vaccine until after they have given birth.', 'Women should not get pregnant for 1 month after getting chickenpox vaccine.', 'People should check with their doctor about whether they should get chickenpox vaccine if they: Have HIV/AIDS or another disease that affects the immune system Are being treated with drugs that affect the immune system, such as steroids, for 2 weeks or longer Have any kind of cancer Are getting cancer treatment with radiation or drugs Recently had a transfusion or were given other blood products\\n\\n\\n\\nImmune Conditions in Family Members\\n\\nPeople should check with their doctor about whether they should get chickenpox vaccine if they have immune conditions in first degree relatives (parents, siblings) that can be inherited (called immunodeficiencies).', 'Most children who have family members with immune system problems can safely get varicella vaccine, as long as they themselves have a healthy immune system.', 'Generally speaking, anyone with a damaged immune system should not get live vaccines, such as chickenpox vaccine.', 'But most immune system problems are not related to the patient’s family.', 'They come from illnesses such as cancer, or from medications such as chemotherapy drugs.', 'But there are some rare immune conditions that can run in the family.', 'So children whose parents or brothers or sisters have one of these conditions should be screened before getting chickenpox vaccine to make sure they haven’t inherited it.', 'Children with a family history of these conditions can get the chickenpox vaccine if they are found not to have the conditions themselves.', 'Top of Page\\n\\nTypes of Chickenpox Vaccine\\n\\nThere are two chickenpox vaccines that are licensed in the United States—Varivax® and ProQuad®.', 'Varivax®\\n\\nContains only chickenpox vaccine\\n\\nIs licensed for use in children age 12 months and older, adolescents, and adults\\n\\nCan be given to children for their routine two doses of chickenpox vaccine at age 12 through 15 months and age 4 through 6 years\\n\\nProQuad®\\n\\nContains a combination of measles, mumps, rubella, and varicella (chickenpox) vaccines, which is also called MMRV\\n\\nIs only licensed for use in children age 12 months through 12 years\\n\\nProQuad® can be given to children for their routine two doses of chickenpox vaccine at age 12 through 15 months and age 4 through 6 years.', 'Children who get the first dose of MMRV at age 12 to 23 months may have a higher chance of a seizure caused by fever.', 'This is in comparison to children who get the measles, mumps, and rubella vaccine and the chickenpox vaccine separately during a doctor visit.', 'These seizures are not common.', 'They may be scary for parents, but they are not harmful to children.', 'Talk with a doctor if you have questions.', 'For more information, see\\n\\nFor package inserts, see Varivaxexternal icon® and ProQuadexternal icon®.', 'Getting Vaccinated After You Are Exposed to Chickenpox\\n\\nIf you do not have immunity against chickenpox and are exposed to someone with this disease or shingles, talk with your doctor about getting chickenpox vaccine.', 'You should get chickenpox vaccine within 3 to 5 days of being exposed.', 'Even if more than 5 days have passed since you were exposed, vaccination with two doses is still recommended to protect against future exposures.', 'You need 2 doses of vaccine separated by minimum of 28 days.', 'For more information, see Who Needs Chickenpox Vaccine.', 'If you previously got 1 dose of chickenpox vaccine, you should get a second dose.', 'Getting vaccinated after you are exposed to someone with chickenpox can:\\n\\nprevent the disease or make it less serious\\n\\nprotect you from chickenpox if you are exposed again in the future\\n\\nA doctor can prescribe a medicine to make chickenpox less severe if you:\\n\\nare exposed to chickenpox,\\n\\ndo not have immunity against the disease, and\\n\\nare not eligible for vaccination.', 'For more information, see Managing Persons at Risk for Severe Chickenpox (Varicella).', 'Also, see information about Who Should Not Get Chickenpox Vaccine.', 'Top of Page\\n\\nChildcare and School Chickenpox Vaccine Requirements\\n\\nAll 50 states and the District of Columbia (DC) have state laws that require children entering childcare or public schools to have certain vaccinations.', 'There is no federal law that requires this.', 'The Advisory Committee on Immunization Practices recommends that all states require children entering childcare and students starting school, college, and other postsecondary educational institutions have:\\n\\nage-appropriate chickenpox vaccination preschool-age children (age 12 months through 3 years): 1 dose school-age children, adolescents, adults: 2 doses or\\n\\nother evidence of immunity against chickenpox.', 'Students in school settings have a higher chance of spreading chickenpox because they are constantly in close contact with each other.', 'Chickenpox vaccine prevents the disease and outbreaks in childcare settings and schools.', 'This leads to:\\n\\nless illness and less school time missed by students, and\\n\\nless chance of exposing people who cannot get vaccinated.', 'For the 2018-2019 school year, 43 states and District of Columbia require children to receive 2 doses of chickenpox vaccine or have other evidence of immunity against chickenpox before starting school.', 'There are 8 states with a school-entry requirement of 1 dose of chickenpox vaccine or other evidence of immunity against chickenpox.', 'For more information, see State Vaccination Requirements.', 'How Can Parents Pay for Chickenpox Vaccine?', 'Most health insurance plans cover the cost of vaccines.', 'However, you may want to check with your insurance provider before going to the doctor.', 'If you don’t have health insurance or if your insurance does not cover vaccines for your child, the Vaccines for Children (VFC) Program may be able to help.', 'This program helps families of eligible children who might not otherwise have access to vaccines.', 'To find out if your child is eligible, visit the VFC website or ask your child’s doctor.', 'You can also contact your state VFC coordinator.', 'Educational Materials\\n\\nTop of Page']\n"
          ],
          "name": "stdout"
        }
      ]
    },
    {
      "cell_type": "code",
      "metadata": {
        "id": "FYPR1RNELkg0"
      },
      "source": [
        "# Returning a random greeting response to the User's greeting\n",
        "\n",
        "def greeting_response(text):\n",
        "  text=text.lower()\n",
        "\n",
        "  # Bot's Greeting response\n",
        "  bot_greetings=['hello','hi','hey','hola','howdy']\n",
        "  # User's Greeting \n",
        "  user_greetings=['hello','hi','hey','hola','wassup']\n",
        "\n",
        "  for word in text.split():\n",
        "    if word in user_greetings:\n",
        "      return random.choice(bot_greetings)"
      ],
      "execution_count": null,
      "outputs": []
    },
    {
      "cell_type": "code",
      "metadata": {
        "id": "llRhLAsSQya3"
      },
      "source": [
        "def index_sort(list_var):\n",
        "  length=len(list_var)\n",
        "  list_index=list(range(0,length))\n",
        "\n",
        "  x=list_var\n",
        "  for i in range(length):\n",
        "    for j in range(length):\n",
        "      if x[list_index[i]]>x[list_index[j]]:\n",
        "        #Swap\n",
        "        temp=list_index[i]\n",
        "        list_index[i]=list_index[j]\n",
        "        list_index[j]=temp\n",
        "\n",
        "  return list_index"
      ],
      "execution_count": null,
      "outputs": []
    },
    {
      "cell_type": "code",
      "metadata": {
        "id": "Tiz-G_YeSCq_"
      },
      "source": [
        "# Create the Bot's Response\n",
        "\n",
        "def bot_response(user_input):\n",
        "  user_input=user_input.lower()\n",
        "  sentence_list.append(user_input)\n",
        "  bot_response=''\n",
        "  #count matrix\n",
        "  cm=CountVectorizer().fit_transform(sentence_list)   \n",
        "\n",
        "  similarity_scores=cosine_similarity(cm[-1],cm)\n",
        "  similarity_scores_list=similarity_scores.flatten()\n",
        "\n",
        "  index=index_sort(similarity_scores_list)\n",
        "  index=index[1:]\n",
        "  response_flag=0\n",
        "\n",
        "  j=0\n",
        "  for i in range(len(index)):\n",
        "    if similarity_scores_list[index[i]]>0.0:\n",
        "      bot_response=bot_response+' '+sentence_list[index[i]]\n",
        "      response_flag=1\n",
        "      j=j+1\n",
        "    if j>2:\n",
        "      break\n",
        "  \n",
        "  if response_flag==0:\n",
        "    bot_response=bot_response+\" \"+\"I apologize I don't understand\"\n",
        "\n",
        "  sentence_list.remove(user_input)\n",
        "  return bot_response"
      ],
      "execution_count": null,
      "outputs": []
    },
    {
      "cell_type": "code",
      "metadata": {
        "colab": {
          "base_uri": "https://localhost:8080/"
        },
        "id": "NIY9IqY02z9h",
        "outputId": "ae72cbde-65a8-44fc-92bb-f4e852003755"
      },
      "source": [
        "# Start the chat\n",
        "\n",
        "print(\"Doc Bot: Hello, I'm Doctor Bot or Doc Bot for short.I'll answer your queries about Chickenpox Vaccination. If you want to exit type-Bye\")\n",
        "\n",
        "exit_list=['exit','see you later','break','bye','quit']\n",
        "\n",
        "while(True):\n",
        "  user_input=input()\n",
        "  if user_input.lower()in exit_list:\n",
        "    print('Doc Bot: Chat with you later!')\n",
        "    break\n",
        "  \n",
        "  else:\n",
        "    if greeting_response(user_input)!= None:\n",
        "      print(\"Doc Bot: \"+greeting_response(user_input))\n",
        "    else:\n",
        "      print('Doc Bot: '+bot_response(user_input))\n",
        "\n"
      ],
      "execution_count": null,
      "outputs": [
        {
          "output_type": "stream",
          "text": [
            "Doc Bot: Hello, I'm Doctor Bot or Doc Bot for short.I'll answer your queries about Chickenpox Vaccination. If you want to exit type-Bye\n",
            "Who Needs Chickenpox Vaccine\n",
            "Doc Bot:  who needs chickenpox vaccine For more information, see Who Needs Chickenpox Vaccine. Also, see information about Who Should Not Get Chickenpox Vaccine.\n",
            "what is chickenpox\n",
            "Doc Bot:  Chickenpox Vaccination: What Everyone Should Know\n",
            "\n",
            "At a Glance\n",
            "\n",
            "Chickenpox is a highly contagious disease caused by the varicella-zoster virus (VZV). who needs chickenpox vaccine Getting Vaccinated After You Are Exposed to Chickenpox\n",
            "\n",
            "If you do not have immunity against chickenpox and are exposed to someone with this disease or shingles, talk with your doctor about getting chickenpox vaccine.\n",
            "what are the Types of Chickenpox Vaccine\n",
            "Doc Bot:  Top of Page\n",
            "\n",
            "Types of Chickenpox Vaccine\n",
            "\n",
            "There are two chickenpox vaccines that are licensed in the United States—Varivax® and ProQuad®. There are 8 states with a school-entry requirement of 1 dose of chickenpox vaccine or other evidence of immunity against chickenpox. People should not get chickenpox vaccine if they have ever had a life-threatening allergic reaction to a previous dose of chickenpox vaccine or any ingredient of the vaccine, including gelatin or the antibiotic neomycin.\n",
            "Hi\n",
            "Doc Bot: hola\n",
            "Hi\n",
            "Doc Bot: hello\n",
            "hello\n",
            "Doc Bot: hi\n",
            "bye\n",
            "Doc Bot: Chat with you later!\n"
          ],
          "name": "stdout"
        }
      ]
    }
  ]
}